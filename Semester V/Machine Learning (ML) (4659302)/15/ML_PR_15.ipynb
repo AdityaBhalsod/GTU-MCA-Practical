{
 "cells": [
  {
   "cell_type": "markdown",
   "metadata": {},
   "source": [
    "# Step 1: Data Preprocessing"
   ]
  },
  {
   "cell_type": "code",
   "execution_count": 1,
   "metadata": {},
   "outputs": [],
   "source": [
    "#importing the libraries\n",
    "import numpy as np\n",
    "import matplotlib.pyplot as plt\n",
    "import pandas as pd\n",
    "import warnings\n",
    "\n",
    "\n",
    "# ignore all warnings\n",
    "warnings.filterwarnings('ignore')"
   ]
  },
  {
   "cell_type": "code",
   "execution_count": 2,
   "metadata": {},
   "outputs": [],
   "source": [
    "#importing our cancer dataset\n",
    "dataset = pd.read_csv('dataset.csv')\n",
    "X = dataset.iloc[:, 1:31].values\n",
    "Y = dataset.iloc[:, 31].values"
   ]
  },
  {
   "cell_type": "code",
   "execution_count": 3,
   "metadata": {},
   "outputs": [
    {
     "name": "stdout",
     "output_type": "stream",
     "text": [
      "Cancer data set dimensions : (568, 32)\n"
     ]
    }
   ],
   "source": [
    "print(\"Cancer data set dimensions : {}\".format(dataset.shape))"
   ]
  },
  {
   "cell_type": "markdown",
   "metadata": {},
   "source": [
    "## Missing or Null Data points"
   ]
  },
  {
   "cell_type": "code",
   "execution_count": 4,
   "metadata": {},
   "outputs": [
    {
     "data": {
      "text/plain": [
       "842302      0\n",
       "17.99       0\n",
       "10.38       0\n",
       "122.8       0\n",
       "1001        0\n",
       "0.1184      0\n",
       "0.2776      0\n",
       "0.3001      0\n",
       "0.1471      0\n",
       "0.2419      0\n",
       "0.07871     0\n",
       "1.095       0\n",
       "0.9053      0\n",
       "8.589       0\n",
       "153.4       0\n",
       "0.006399    0\n",
       "0.04904     0\n",
       "0.05373     0\n",
       "0.01587     0\n",
       "0.03003     0\n",
       "0.006193    0\n",
       "25.38       0\n",
       "17.33       0\n",
       "184.6       0\n",
       "2019        0\n",
       "0.1622      0\n",
       "0.6656      0\n",
       "0.7119      0\n",
       "0.2654      0\n",
       "0.4601      0\n",
       "0.1189      0\n",
       "M           0\n",
       "dtype: int64"
      ]
     },
     "execution_count": 4,
     "metadata": {},
     "output_type": "execute_result"
    }
   ],
   "source": [
    "dataset.isnull().sum()\n",
    "dataset.isna().sum()"
   ]
  },
  {
   "cell_type": "code",
   "execution_count": 5,
   "metadata": {},
   "outputs": [],
   "source": [
    "#Encoding categorical data values\n",
    "from sklearn.preprocessing import LabelEncoder\n",
    "labelencoder_Y = LabelEncoder()\n",
    "Y = labelencoder_Y.fit_transform(Y)"
   ]
  },
  {
   "cell_type": "code",
   "execution_count": 6,
   "metadata": {},
   "outputs": [],
   "source": [
    "# Splitting the dataset into the Training set and Test set\n",
    "from sklearn.model_selection import train_test_split\n",
    "X_train, X_test, Y_train, Y_test = train_test_split(X, Y, test_size = 0.25, random_state = 0)"
   ]
  },
  {
   "cell_type": "markdown",
   "metadata": {},
   "source": [
    "# Step 2: Feature Scaling"
   ]
  },
  {
   "cell_type": "code",
   "execution_count": 7,
   "metadata": {},
   "outputs": [],
   "source": [
    "#Feature Scaling\n",
    "from sklearn.preprocessing import StandardScaler\n",
    "sc = StandardScaler()\n",
    "X_train = sc.fit_transform(X_train)\n",
    "X_test = sc.transform(X_test)"
   ]
  },
  {
   "cell_type": "markdown",
   "metadata": {},
   "source": [
    "# Step 3: Fitting supervised machine learning algorithm to the Training set"
   ]
  },
  {
   "cell_type": "code",
   "execution_count": 8,
   "metadata": {},
   "outputs": [
    {
     "data": {
      "text/plain": [
       "SVC(C=1.0, cache_size=200, class_weight=None, coef0=0.0,\n",
       "  decision_function_shape='ovr', degree=3, gamma='auto_deprecated',\n",
       "  kernel='linear', max_iter=-1, probability=False, random_state=None,\n",
       "  shrinking=True, tol=0.001, verbose=False)"
      ]
     },
     "execution_count": 8,
     "metadata": {},
     "output_type": "execute_result"
    }
   ],
   "source": [
    "#Using SVC method of svm class to use Support Vector Machine Algorithm\n",
    "from sklearn.svm import SVC\n",
    "classifier = SVC(kernel='linear')\n",
    "classifier.fit(X_train, Y_train)"
   ]
  },
  {
   "cell_type": "markdown",
   "metadata": {},
   "source": [
    "# Step 4: Predecting the Result"
   ]
  },
  {
   "cell_type": "code",
   "execution_count": 9,
   "metadata": {},
   "outputs": [
    {
     "name": "stdout",
     "output_type": "stream",
     "text": [
      "Prediction results of Support Vector Machine Alogorithm : \n",
      "[0 0 0 0 0 1 0 0 0 0 0 1 1 0 0 0 0 0 0 0 1 0 0 1 1 0 0 1 1 0 1 1 0 0 1 1 0\n",
      " 0 1 0 0 0 1 0 0 1 0 1 0 1 0 0 0 0 1 0 0 0 0 0 1 0 0 0 0 0 0 0 0 0 0 1 1 0\n",
      " 0 0 0 0 1 1 1 0 1 0 0 1 0 1 1 1 1 0 1 1 1 0 0 0 0 0 1 1 0 0 1 0 0 0 1 1 0\n",
      " 1 1 1 1 0 0 0 0 1 1 0 0 0 0 0 0 1 0 0 0 1 0 0 0 0 0 0 1 0 0 1]\n"
     ]
    }
   ],
   "source": [
    "predit_classifier = classifier.predict(X_test)\n",
    "#print result\n",
    "print(\"Prediction results of Support Vector Machine Alogorithm : \\n{}\".format(predit_classifier))"
   ]
  },
  {
   "cell_type": "markdown",
   "metadata": {},
   "source": [
    "# Step 5: Making the Confusion Matrix & Classfication Report"
   ]
  },
  {
   "cell_type": "code",
   "execution_count": 10,
   "metadata": {},
   "outputs": [
    {
     "name": "stdout",
     "output_type": "stream",
     "text": [
      "Classification Report of Support Vector Machine Alogorith : \n",
      "              precision    recall  f1-score   support\n",
      "\n",
      "           0       0.97      0.99      0.98        92\n",
      "           1       0.98      0.94      0.96        50\n",
      "\n",
      "   micro avg       0.97      0.97      0.97       142\n",
      "   macro avg       0.97      0.96      0.97       142\n",
      "weighted avg       0.97      0.97      0.97       142\n",
      "\n",
      "Confusion Matrix of Support Vector Machine Alogorith : \n",
      "[[91  1]\n",
      " [ 3 47]]\n",
      "\n",
      "Accuracy is :-  0.971830985915493\n"
     ]
    }
   ],
   "source": [
    "#import classification report & confusion_matrix & Accuracy score\n",
    "from sklearn.metrics import confusion_matrix,accuracy_score,classification_report\n",
    "\n",
    "print(\"Classification Report of Support Vector Machine Alogorith : \\n{}\"\n",
    "      .format(classification_report(Y_test, predit_classifier)))\n",
    "\n",
    "print(\"Confusion Matrix of Support Vector Machine Alogorith : \\n{}\".format(confusion_matrix(Y_test, predit_classifier)))\n",
    "\n",
    "print('\\nAccuracy is :- ',accuracy_score(predit_classifier,Y_test))"
   ]
  }
 ],
 "metadata": {
  "kernelspec": {
   "display_name": "Python 3",
   "language": "python",
   "name": "python3"
  },
  "language_info": {
   "codemirror_mode": {
    "name": "ipython",
    "version": 3
   },
   "file_extension": ".py",
   "mimetype": "text/x-python",
   "name": "python",
   "nbconvert_exporter": "python",
   "pygments_lexer": "ipython3",
   "version": "3.7.3"
  }
 },
 "nbformat": 4,
 "nbformat_minor": 2
}
