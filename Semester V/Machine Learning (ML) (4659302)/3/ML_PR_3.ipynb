{
 "cells": [
  {
   "cell_type": "code",
   "execution_count": 1,
   "metadata": {},
   "outputs": [],
   "source": [
    "from apyori import apriori\n",
    "\n",
    "transactions = [\n",
    "    ['Bread', 'butter', 'milk', 'soda'],\n",
    "    ['Coke', 'egg', 'milk'],\n",
    "    ['Bread', 'butter', 'egg'],\n",
    "    ['Break', 'coke', 'jam'],\n",
    "    ['Bread', 'butter'],\n",
    "    ['Potato chips', 'soda'],\n",
    "    ['Coke', 'fruit', 'juice'],\n",
    "    ['Bread', 'coke', 'milk'],\n",
    "    ['Coke', 'soda', 'jam', 'milk'],\n",
    "    ['Bread', 'butter', 'egg', 'milk','soda'],\n",
    "    ['Bread', 'milk'],\n",
    "    ['Bread', 'jam']\n",
    "]\n",
    "results = list(apriori(transactions))"
   ]
  },
  {
   "cell_type": "code",
   "execution_count": 2,
   "metadata": {},
   "outputs": [],
   "source": [
    "association_rules = apriori(transactions, min_support=0.093, min_confidence=1.0, min_lift=2, min_length=2)  \n",
    "association_results = list(association_rules)"
   ]
  },
  {
   "cell_type": "code",
   "execution_count": 3,
   "metadata": {},
   "outputs": [
    {
     "name": "stdout",
     "output_type": "stream",
     "text": [
      "Association Results : 5\n",
      "First association results : \n",
      "RelationRecord(items=frozenset({'Bread', 'butter', 'egg'}), support=0.16666666666666666, ordered_statistics=[OrderedStatistic(items_base=frozenset({'Bread', 'egg'}), items_add=frozenset({'butter'}), confidence=1.0, lift=3.0)])\n"
     ]
    }
   ],
   "source": [
    "print(\"Association Results : {}\".format(len(association_results))) \n",
    "\n",
    "print(\"First association results : \\n{}\".format(association_results[0]))"
   ]
  },
  {
   "cell_type": "code",
   "execution_count": 4,
   "metadata": {},
   "outputs": [
    {
     "name": "stdout",
     "output_type": "stream",
     "text": [
      "Rule: Bread -> butter\n",
      "Support: 0.16666666666666666\n",
      "Confidence: 1.0\n",
      "Lift: 3.0\n",
      "=====================================\n",
      "Rule: Bread -> butter\n",
      "Support: 0.16666666666666666\n",
      "Confidence: 1.0\n",
      "Lift: 3.0\n",
      "=====================================\n",
      "Rule: Bread -> milk\n",
      "Support: 0.16666666666666666\n",
      "Confidence: 1.0\n",
      "Lift: 2.0\n",
      "=====================================\n",
      "Rule: butter -> milk\n",
      "Support: 0.16666666666666666\n",
      "Confidence: 1.0\n",
      "Lift: 3.0\n",
      "=====================================\n",
      "Rule: Bread -> butter\n",
      "Support: 0.16666666666666666\n",
      "Confidence: 1.0\n",
      "Lift: 3.0\n",
      "=====================================\n"
     ]
    }
   ],
   "source": [
    "for item in association_results:\n",
    "    # first index of the inner list\n",
    "    # Contains base item and add item\n",
    "    pair = item[0] \n",
    "    items = [x for x in pair]\n",
    "    print(\"Rule: \" + items[0] + \" -> \" + items[1])\n",
    "\n",
    "    #second index of the inner list\n",
    "    print(\"Support: \" + str(item[1]))\n",
    "\n",
    "    #third index of the list located at 0th\n",
    "    #of the third index of the inner list\n",
    "    print(\"Confidence: \" + str(item[2][0][2]))\n",
    "    print(\"Lift: \" + str(item[2][0][3]))\n",
    "    print(\"=====================================\")"
   ]
  }
 ],
 "metadata": {
  "kernelspec": {
   "display_name": "Python 3",
   "language": "python",
   "name": "python3"
  },
  "language_info": {
   "codemirror_mode": {
    "name": "ipython",
    "version": 3
   },
   "file_extension": ".py",
   "mimetype": "text/x-python",
   "name": "python",
   "nbconvert_exporter": "python",
   "pygments_lexer": "ipython3",
   "version": "3.7.3"
  }
 },
 "nbformat": 4,
 "nbformat_minor": 2
}
