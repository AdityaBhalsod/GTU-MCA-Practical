{
 "cells": [
  {
   "cell_type": "code",
   "execution_count": 1,
   "metadata": {},
   "outputs": [],
   "source": [
    "import pandas as pd\n",
    "import numpy as np\n",
    "from sklearn import linear_model\n",
    "from sklearn import metrics\n",
    "from sklearn.model_selection import train_test_split\n",
    "from warnings import simplefilter\n",
    "\n",
    "\n",
    "# ignore all future warnings\n",
    "simplefilter(action='ignore', category=FutureWarning)"
   ]
  },
  {
   "cell_type": "code",
   "execution_count": 2,
   "metadata": {},
   "outputs": [],
   "source": [
    "# Dataset Path\n",
    "DATASET_PATH = \"dataset/glass.data\""
   ]
  },
  {
   "cell_type": "code",
   "execution_count": 3,
   "metadata": {},
   "outputs": [],
   "source": [
    "glass_data_headers = [\"Id\", \"RI\", \"Na\", \"Mg\", \"Al\", \"Si\", \"K\", \"Ca\", \"Ba\", \"Fe\", \"glass-type\"]\n",
    "glass_data = pd.read_csv(DATASET_PATH, names=glass_data_headers)"
   ]
  },
  {
   "cell_type": "code",
   "execution_count": 4,
   "metadata": {},
   "outputs": [
    {
     "name": "stdout",
     "output_type": "stream",
     "text": [
      "Number of observations ::  214\n",
      "Number of columns ::  11\n",
      "Headers ::  ['Id' 'RI' 'Na' 'Mg' 'Al' 'Si' 'K' 'Ca' 'Ba' 'Fe' 'glass-type']\n"
     ]
    }
   ],
   "source": [
    "print (\"Number of observations :: \", len(glass_data.index))\n",
    "print (\"Number of columns :: \", len(glass_data.columns))\n",
    "print (\"Headers :: \", glass_data.columns.values)\n",
    "#print (\"Target :: \", glass_data[glass_data_headers[-1]])"
   ]
  },
  {
   "cell_type": "code",
   "execution_count": 5,
   "metadata": {},
   "outputs": [
    {
     "name": "stdout",
     "output_type": "stream",
     "text": [
      "glass_data_RI ::  [1.52101, 1.5176100000000001, 1.5161799999999999, 1.51766, 1.51742, 1.51596, 1.5174299999999998, 1.51756, 1.51918, 1.51755]\n",
      "glass_data_target ::  [1 1 1 2 2 3 4 5 6 7]\n"
     ]
    }
   ],
   "source": [
    "print (\"glass_data_RI :: \", list(glass_data[\"RI\"][:10]))\n",
    "print (\"glass_data_target :: \", np.array([1, 1, 1, 2, 2, 3, 4, 5, 6, 7]))"
   ]
  },
  {
   "cell_type": "code",
   "execution_count": 6,
   "metadata": {},
   "outputs": [],
   "source": [
    "train_x, test_x, train_y, test_y = train_test_split(glass_data[glass_data_headers[:-1]],\n",
    "                                                    glass_data[glass_data_headers[-1]], \n",
    "                                                    train_size=0.7)"
   ]
  },
  {
   "cell_type": "code",
   "execution_count": 7,
   "metadata": {},
   "outputs": [
    {
     "data": {
      "text/plain": [
       "LogisticRegression(C=1.0, class_weight=None, dual=False, fit_intercept=True,\n",
       "          intercept_scaling=1, max_iter=100, multi_class='warn',\n",
       "          n_jobs=None, penalty='l2', random_state=None, solver='warn',\n",
       "          tol=0.0001, verbose=0, warm_start=False)"
      ]
     },
     "execution_count": 7,
     "metadata": {},
     "output_type": "execute_result"
    }
   ],
   "source": [
    "# Train multi-classification model with logistic regression\n",
    "lr = linear_model.LogisticRegression()\n",
    "lr.fit(train_x, train_y)"
   ]
  },
  {
   "cell_type": "code",
   "execution_count": 8,
   "metadata": {},
   "outputs": [],
   "source": [
    "# Train multinomial logistic regression model\n",
    "mul_lr = linear_model.LogisticRegression(multi_class='multinomial', solver='newton-cg').fit(train_x, train_y)"
   ]
  },
  {
   "cell_type": "code",
   "execution_count": 9,
   "metadata": {},
   "outputs": [
    {
     "name": "stdout",
     "output_type": "stream",
     "text": [
      "Logistic regression Train Accuracy ::  0.8993288590604027\n",
      "Logistic regression Test Accuracy ::  0.8615384615384616\n",
      "Multinomial Logistic regression Train Accuracy ::  1.0\n",
      "Multinomial Logistic regression Test Accuracy ::  0.9846153846153847\n"
     ]
    }
   ],
   "source": [
    "print (\"Logistic regression Train Accuracy :: \", metrics.accuracy_score(train_y, lr.predict(train_x)))\n",
    "print (\"Logistic regression Test Accuracy :: \", metrics.accuracy_score(test_y, lr.predict(test_x)))\n",
    "\n",
    "print (\"Multinomial Logistic regression Train Accuracy :: \", metrics.accuracy_score(train_y, mul_lr.predict(train_x)))\n",
    "print (\"Multinomial Logistic regression Test Accuracy :: \", metrics.accuracy_score(test_y, mul_lr.predict(test_x)))"
   ]
  }
 ],
 "metadata": {
  "kernelspec": {
   "display_name": "Python 3",
   "language": "python",
   "name": "python3"
  },
  "language_info": {
   "codemirror_mode": {
    "name": "ipython",
    "version": 3
   },
   "file_extension": ".py",
   "mimetype": "text/x-python",
   "name": "python",
   "nbconvert_exporter": "python",
   "pygments_lexer": "ipython3",
   "version": "3.7.3"
  }
 },
 "nbformat": 4,
 "nbformat_minor": 2
}
