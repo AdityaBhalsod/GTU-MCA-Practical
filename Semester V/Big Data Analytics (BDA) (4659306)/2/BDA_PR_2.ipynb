{
 "cells": [
  {
   "cell_type": "code",
   "execution_count": 1,
   "metadata": {
    "slideshow": {
     "slide_type": "slide"
    }
   },
   "outputs": [],
   "source": [
    "#import lib\n",
    "import pandas as pd\n",
    "from sklearn.neighbors import KNeighborsClassifier\n",
    "from sklearn.metrics import accuracy_score"
   ]
  },
  {
   "cell_type": "code",
   "execution_count": 2,
   "metadata": {
    "slideshow": {
     "slide_type": "slide"
    }
   },
   "outputs": [
    {
     "name": "stdout",
     "output_type": "stream",
     "text": [
      "\n",
      "Shape of train set: (384, 12) (384, 1)\n"
     ]
    }
   ],
   "source": [
    "# Importing training data set\n",
    "X_train=pd.read_csv('dataset/X_train.csv')\n",
    "Y_train=pd.read_csv('dataset/Y_train.csv')\n",
    "print(\"\\nShape of train set:\", X_train.shape, Y_train.shape)"
   ]
  },
  {
   "cell_type": "code",
   "execution_count": 3,
   "metadata": {
    "slideshow": {
     "slide_type": "slide"
    }
   },
   "outputs": [
    {
     "name": "stdout",
     "output_type": "stream",
     "text": [
      "\n",
      "Shape of test set: (96, 12) (96, 1)\n"
     ]
    }
   ],
   "source": [
    "# Importing testing data set\n",
    "X_test=pd.read_csv('dataset/X_test.csv')\n",
    "Y_test=pd.read_csv('dataset/Y_test.csv')\n",
    "print(\"\\nShape of test set:\", X_test.shape, Y_test.shape)"
   ]
  },
  {
   "cell_type": "code",
   "execution_count": 4,
   "metadata": {
    "slideshow": {
     "slide_type": "slide"
    }
   },
   "outputs": [
    {
     "data": {
      "text/plain": [
       "KNeighborsClassifier(algorithm='auto', leaf_size=30, metric='minkowski',\n",
       "           metric_params=None, n_jobs=None, n_neighbors=5, p=2,\n",
       "           weights='uniform')"
      ]
     },
     "execution_count": 4,
     "metadata": {},
     "output_type": "execute_result"
    }
   ],
   "source": [
    "# Initializing and Fitting a k-NN model\n",
    "knn=KNeighborsClassifier(n_neighbors=5)\n",
    "knn.fit(X_train[['ApplicantIncome','CoapplicantIncome','LoanAmount',\n",
    "                 'Loan_Amount_Term','Credit_History']],Y_train.values.ravel())"
   ]
  },
  {
   "cell_type": "code",
   "execution_count": 5,
   "metadata": {
    "slideshow": {
     "slide_type": "slide"
    }
   },
   "outputs": [
    {
     "name": "stdout",
     "output_type": "stream",
     "text": [
      "\n",
      "Accuracy score on test set : 0.6145833333333334\n"
     ]
    }
   ],
   "source": [
    "# Checking the performance of our model on the testing data set\n",
    "print(\"\\nAccuracy score on test set :\", accuracy_score(Y_test,knn.predict(X_test[['ApplicantIncome','CoapplicantIncome','LoanAmount', 'Loan_Amount_Term','Credit_History']])))"
   ]
  },
  {
   "cell_type": "code",
   "execution_count": 6,
   "metadata": {
    "slideshow": {
     "slide_type": "slide"
    }
   },
   "outputs": [
    {
     "name": "stdout",
     "output_type": "stream",
     "text": [
      "\n",
      "Distribution of Loan_Status in train set :\n",
      "Y    0.705729\n",
      "N    0.294271\n",
      "Name: Target, dtype: float64\n"
     ]
    }
   ],
   "source": [
    "print(\"\\nDistribution of Loan_Status in train set :\")\n",
    "print(Y_train.Target.value_counts()/Y_train.Target.count())"
   ]
  },
  {
   "cell_type": "code",
   "execution_count": 7,
   "metadata": {
    "slideshow": {
     "slide_type": "slide"
    }
   },
   "outputs": [
    {
     "name": "stdout",
     "output_type": "stream",
     "text": [
      "\n",
      "Distribution of Loan_Status in predictions on the test set :\n",
      "Y    0.635417\n",
      "N    0.364583\n",
      "Name: Target, dtype: float64\n"
     ]
    }
   ],
   "source": [
    "print(\"\\nDistribution of Loan_Status in predictions on the test set :\")\n",
    "print(Y_test.Target.value_counts()/Y_test.Target.count())"
   ]
  }
 ],
 "metadata": {
  "kernelspec": {
   "display_name": "Python 3",
   "language": "python",
   "name": "python3"
  },
  "language_info": {
   "codemirror_mode": {
    "name": "ipython",
    "version": 3
   },
   "file_extension": ".py",
   "mimetype": "text/x-python",
   "name": "python",
   "nbconvert_exporter": "python",
   "pygments_lexer": "ipython3",
   "version": "3.7.3"
  }
 },
 "nbformat": 4,
 "nbformat_minor": 2
}
