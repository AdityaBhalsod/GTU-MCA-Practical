{
 "cells": [
  {
   "cell_type": "markdown",
   "metadata": {},
   "source": [
    "### NLP | How tokenizing text, sentence, words works\n",
    "### Text into sentences tokenization\n",
    "### Sentences into words tokenization\n",
    "### Sentences using regular expressions tokenization"
   ]
  },
  {
   "cell_type": "code",
   "execution_count": 1,
   "metadata": {},
   "outputs": [],
   "source": [
    "# import dataset\n",
    "from nltk.tokenize import sent_tokenize, word_tokenize,TreebankWordTokenizer, WordPunctTokenizer, RegexpTokenizer, regexp_tokenize"
   ]
  },
  {
   "cell_type": "markdown",
   "metadata": {},
   "source": [
    "# Sentence Tokenization – Splitting sentences in the paragraph"
   ]
  },
  {
   "cell_type": "code",
   "execution_count": 2,
   "metadata": {},
   "outputs": [
    {
     "name": "stdout",
     "output_type": "stream",
     "text": [
      "Original Text :- Hello everyone. Welcome to Government MCA College. You are studying NLP article\n",
      "Sentence Tokenization :- ['Hello everyone.', 'Welcome to Government MCA College.', 'You are studying NLP article']\n"
     ]
    }
   ],
   "source": [
    "text = \"Hello everyone. Welcome to Government MCA College. You are studying NLP article\"\n",
    "\n",
    "print(\"Original Text :- {}\".format(text))\n",
    "\n",
    "\n",
    "print(\"Sentence Tokenization :- {}\".format(sent_tokenize(text)))"
   ]
  },
  {
   "cell_type": "markdown",
   "metadata": {},
   "source": [
    "# Word Tokenization – Splitting words in a sentence."
   ]
  },
  {
   "cell_type": "code",
   "execution_count": 3,
   "metadata": {},
   "outputs": [
    {
     "name": "stdout",
     "output_type": "stream",
     "text": [
      "Word Tokenization :-\n",
      " ['Hello', 'everyone', '.', 'Welcome', 'to', 'Government', 'MCA', 'College', '.', 'You', 'are', 'studying', 'NLP', 'article']\n"
     ]
    }
   ],
   "source": [
    "print(\"Word Tokenization :-\\n {}\".format(word_tokenize(text)))"
   ]
  },
  {
   "cell_type": "markdown",
   "metadata": {},
   "source": [
    "# Using TreebankWordTokenizer "
   ]
  },
  {
   "cell_type": "code",
   "execution_count": 4,
   "metadata": {},
   "outputs": [
    {
     "name": "stdout",
     "output_type": "stream",
     "text": [
      "Using TreebankWordTokenizer :-\n",
      " ['Hello', 'everyone.', 'Welcome', 'to', 'Government', 'MCA', 'College.', 'You', 'are', 'studying', 'NLP', 'article']\n"
     ]
    }
   ],
   "source": [
    "tokenizer = TreebankWordTokenizer()\n",
    "print(\"Using TreebankWordTokenizer :-\\n {}\".format(tokenizer.tokenize(text)))"
   ]
  },
  {
   "cell_type": "markdown",
   "metadata": {},
   "source": [
    "# WordPunctTokenizer – It seperates the punctuation from the words."
   ]
  },
  {
   "cell_type": "code",
   "execution_count": 5,
   "metadata": {},
   "outputs": [
    {
     "name": "stdout",
     "output_type": "stream",
     "text": [
      "WordPunctTokenizer :- ['Let', \"'\", 's', 'see', 'how', 'it', \"'\", 's', 'working', '.']\n"
     ]
    }
   ],
   "source": [
    "tokenizer = WordPunctTokenizer() \n",
    "print(\"WordPunctTokenizer :- {}\".format(tokenizer.tokenize(\"Let's see how it's working.\")))"
   ]
  },
  {
   "cell_type": "markdown",
   "metadata": {},
   "source": [
    "# Using Regular Expression"
   ]
  },
  {
   "cell_type": "code",
   "execution_count": 6,
   "metadata": {},
   "outputs": [
    {
     "name": "stdout",
     "output_type": "stream",
     "text": [
      "Using Regular Expression using RegexpTokenizer :- \n",
      "[\"Let's\", 'see', 'how', \"it's\", 'working']\n",
      "Using Regular Expression using regexp_tokenize funcation :- \n",
      "['Hello', 'everyone', 'Welcome', 'to', 'Government', 'MCA', 'College', 'You', 'are', 'studying', 'NLP', 'article']\n"
     ]
    }
   ],
   "source": [
    "tokenizer = RegexpTokenizer(\"[\\w']+\") \n",
    "text1 = \"Let's see how it's working.\"\n",
    "print(\"Using Regular Expression using RegexpTokenizer :- \\n{}\".format(tokenizer.tokenize(text1)))\n",
    "\n",
    "text2 = \"Let's see how it's working.\"\n",
    "print(\"Using Regular Expression using regexp_tokenize funcation :- \\n{}\".format(regexp_tokenize(text, \"[\\w']+\")))"
   ]
  }
 ],
 "metadata": {
  "kernelspec": {
   "display_name": "Python 3",
   "language": "python",
   "name": "python3"
  },
  "language_info": {
   "codemirror_mode": {
    "name": "ipython",
    "version": 3
   },
   "file_extension": ".py",
   "mimetype": "text/x-python",
   "name": "python",
   "nbconvert_exporter": "python",
   "pygments_lexer": "ipython3",
   "version": "3.7.3"
  }
 },
 "nbformat": 4,
 "nbformat_minor": 2
}
