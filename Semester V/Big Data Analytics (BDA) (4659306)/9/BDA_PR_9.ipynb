{
 "cells": [
  {
   "cell_type": "code",
   "execution_count": 1,
   "metadata": {},
   "outputs": [],
   "source": [
    "#import lib\n",
    "import numpy as np\n",
    "import matplotlib.pyplot as plt\n",
    "import pandas as pd\n",
    "import warnings\n",
    "warnings.filterwarnings(\"ignore\")"
   ]
  },
  {
   "cell_type": "code",
   "execution_count": 2,
   "metadata": {},
   "outputs": [],
   "source": [
    "dataset = pd.read_csv(\"abcnews-date-text.csv\", quoting = 3)"
   ]
  },
  {
   "cell_type": "code",
   "execution_count": 3,
   "metadata": {},
   "outputs": [
    {
     "name": "stderr",
     "output_type": "stream",
     "text": [
      "[nltk_data] Downloading package stopwords to C:\\Users\\Aditya\n",
      "[nltk_data]     Bhalsod\\AppData\\Roaming\\nltk_data...\n",
      "[nltk_data]   Package stopwords is already up-to-date!\n"
     ]
    }
   ],
   "source": [
    "# Cleaning the text\n",
    "import re\n",
    "import nltk\n",
    "nltk.download('stopwords') \n",
    "from nltk.corpus import stopwords\n",
    "from nltk.stem.porter import PorterStemmer"
   ]
  },
  {
   "cell_type": "code",
   "execution_count": 4,
   "metadata": {},
   "outputs": [],
   "source": [
    "corpus = [] \n",
    "for i in range(0, 1000):\n",
    "    review = re.sub('[^a-zA-Z]', ' ', dataset['headline_text'][i]) \n",
    "    review = review.lower() \n",
    "    review = review.split()\n",
    "    ps = PorterStemmer()\n",
    "    review = [ps.stem(word) for word in review if not word in set(stopwords.words('english'))]\n",
    "    review = ' '.join(review) \n",
    "    corpus.append(review)"
   ]
  },
  {
   "cell_type": "code",
   "execution_count": 5,
   "metadata": {},
   "outputs": [],
   "source": [
    "from sklearn.feature_extraction.text import CountVectorizer\n",
    "cv = CountVectorizer(max_features=2000) \n",
    "X = cv.fit_transform(corpus).toarray() "
   ]
  },
  {
   "cell_type": "code",
   "execution_count": 6,
   "metadata": {},
   "outputs": [
    {
     "data": {
      "text/plain": [
       "TfidfVectorizer(analyzer='word', binary=False, decode_error='strict',\n",
       "        dtype=<class 'numpy.float64'>, encoding='utf-8', input='content',\n",
       "        lowercase=True, max_df=1.0, max_features=None, min_df=1,\n",
       "        ngram_range=(1, 1), norm='l2', preprocessor=None, smooth_idf=True,\n",
       "        stop_words=None, strip_accents=None, sublinear_tf=False,\n",
       "        token_pattern='(?u)\\\\b\\\\w\\\\w+\\\\b', tokenizer=None, use_idf=True,\n",
       "        vocabulary=None)"
      ]
     },
     "execution_count": 6,
     "metadata": {},
     "output_type": "execute_result"
    }
   ],
   "source": [
    "terms = cv.get_feature_names()\n",
    "from sklearn.feature_extraction.text import TfidfVectorizer\n",
    "TfidfVectorizer()"
   ]
  },
  {
   "cell_type": "code",
   "execution_count": 7,
   "metadata": {},
   "outputs": [],
   "source": [
    "from sklearn.cluster import KMeans\n",
    "km = KMeans(n_clusters= 9 , init='k-means++' , max_iter=300 , n_init=10 , random_state= 0)\n",
    "km.fit(X)\n",
    "clusters = km.labels_.tolist()"
   ]
  },
  {
   "cell_type": "code",
   "execution_count": 8,
   "metadata": {},
   "outputs": [],
   "source": [
    "from sklearn.utils.extmath import randomized_svd\n",
    "U, Sigma, VT = randomized_svd(X, n_components=10, n_iter=100,random_state=122)"
   ]
  },
  {
   "cell_type": "code",
   "execution_count": 9,
   "metadata": {},
   "outputs": [
    {
     "name": "stdout",
     "output_type": "stream",
     "text": [
      "Concept 0: \n",
      "us\n",
      " \n",
      "man\n",
      " \n",
      "fire\n",
      " \n",
      "iraq\n",
      " \n",
      "turkey\n",
      " \n",
      "club\n",
      " \n",
      "charg\n",
      " \n",
      "Concept 1: \n",
      "man\n",
      " \n",
      "charg\n",
      " \n",
      "murder\n",
      " \n",
      "court\n",
      " \n",
      "stab\n",
      " \n",
      "face\n",
      " \n",
      "polic\n",
      " \n",
      "Concept 2: \n",
      "plan\n",
      " \n",
      "rain\n",
      " \n",
      "govt\n",
      " \n",
      "nsw\n",
      " \n",
      "claim\n",
      " \n",
      "new\n",
      " \n",
      "council\n",
      " \n",
      "Concept 3: \n",
      "iraq\n",
      " \n",
      "un\n",
      " \n",
      "new\n",
      " \n",
      "war\n",
      " \n",
      "plan\n",
      " \n",
      "court\n",
      " \n",
      "council\n",
      " \n",
      "Concept 4: \n",
      "rain\n",
      " \n",
      "drought\n",
      " \n",
      "man\n",
      " \n",
      "water\n",
      " \n",
      "break\n",
      " \n",
      "may\n",
      " \n",
      "iraq\n",
      " \n",
      "Concept 5: \n",
      "plan\n",
      " \n",
      "us\n",
      " \n",
      "fire\n",
      " \n",
      "water\n",
      " \n",
      "world\n",
      " \n",
      "anti\n",
      " \n",
      "court\n",
      " \n",
      "Concept 6: \n",
      "claim\n",
      " \n",
      "govt\n",
      " \n",
      "court\n",
      " \n",
      "new\n",
      " \n",
      "high\n",
      " \n",
      "back\n",
      " \n",
      "face\n",
      " \n",
      "Concept 7: \n",
      "council\n",
      " \n",
      "day\n",
      " \n",
      "fire\n",
      " \n",
      "un\n",
      " \n",
      "secur\n",
      " \n",
      "welcom\n",
      " \n",
      "one\n",
      " \n",
      "Concept 8: \n",
      "govt\n",
      " \n",
      "back\n",
      " \n",
      "fire\n",
      " \n",
      "nsw\n",
      " \n",
      "man\n",
      " \n",
      "iraq\n",
      " \n",
      "call\n",
      " \n",
      "Concept 9: \n",
      "claim\n",
      " \n",
      "us\n",
      " \n",
      "council\n",
      " \n",
      "man\n",
      " \n",
      "govt\n",
      " \n",
      "reject\n",
      " \n",
      "price\n",
      " \n"
     ]
    }
   ],
   "source": [
    "for i,comp in enumerate(VT):\n",
    "    terms_comp = zip(terms, comp)\n",
    "    sorted_terms = sorted(terms_comp, key= lambda x:x[1], reverse=True)[:7]\n",
    "    print(\"Concept \"+str(i)+\": \")\n",
    "    for t in sorted_terms:\n",
    "        print(t[0])\n",
    "        print(\" \")"
   ]
  },
  {
   "cell_type": "code",
   "execution_count": 10,
   "metadata": {},
   "outputs": [
    {
     "data": {
      "image/png": "[encoded data removed]",
      "text/plain": [
       "<Figure size 504x360 with 1 Axes>"
      ]
     },
     "metadata": {
      "needs_background": "light"
     },
     "output_type": "display_data"
    }
   ],
   "source": [
    "import umap\n",
    "X_topics=U*Sigma\n",
    "embedding = umap.UMAP(n_neighbors=100, min_dist=0.5, random_state=12).fit_transform(X_topics)\n",
    "#embedding = umap.__package__.ca\n",
    "plt.figure(figsize=(7,5))\n",
    "plt.scatter(embedding[:, 0], embedding[:, 1], c = clusters,s = 10, edgecolor='none')\n",
    "plt.show()"
   ]
  }
 ],
 "metadata": {
  "kernelspec": {
   "display_name": "Python 3",
   "language": "python",
   "name": "python3"
  },
  "language_info": {
   "codemirror_mode": {
    "name": "ipython",
    "version": 3
   },
   "file_extension": ".py",
   "mimetype": "text/x-python",
   "name": "python",
   "nbconvert_exporter": "python",
   "pygments_lexer": "ipython3",
   "version": "3.7.3"
  }
 },
 "nbformat": 4,
 "nbformat_minor": 2
}
