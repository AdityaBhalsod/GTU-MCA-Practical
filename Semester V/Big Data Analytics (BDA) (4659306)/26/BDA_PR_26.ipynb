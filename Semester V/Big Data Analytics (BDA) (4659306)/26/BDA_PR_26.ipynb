{
 "cells": [
  {
   "cell_type": "markdown",
   "metadata": {},
   "source": [
    "### Part-of-speech tagging (POS tagging or PoS tagging or POST),also called grammatical tagging or word-category disambiguation.\n",
    "\n",
    "Input: ``Everything is all about money.``\n",
    "\n",
    "Output: ``[('Everything', 'NN'), ('is', 'VBZ'),('all', 'DT'),('about', 'IN'), ('money', 'NN'), ('.', '.')] ``"
   ]
  },
  {
   "cell_type": "markdown",
   "metadata": {},
   "source": [
    "## Here’s a list of the tags, what they mean, and some examples:\n",
    "\n",
    "- CC coordinating conjunction\n",
    "- CD cardinal digit\n",
    "- DT determiner\n",
    "- EX existential there (like: “there is” … think of it like “there exists”)\n",
    "- FW foreign word\n",
    "- IN preposition/subordinating conjunction\n",
    "- JJ adjective ‘big’\n",
    "- JJR adjective, comparative ‘bigger’\n",
    "- JJS adjective, superlative ‘biggest’\n",
    "- LS list marker 1)\n",
    "- MD modal could, will\n",
    "- NN noun, singular ‘desk’\n",
    "- NNS noun plural ‘desks’\n",
    "- NNP proper noun, singular ‘Harrison’\n",
    "- NNPS proper noun, plural ‘Americans’\n",
    "- PDT predeterminer ‘all the kids’\n",
    "- POS possessive ending parent‘s\n",
    "- PRP personal pronoun I, he, she\n",
    "- PRP possessive pronoun my, his, hers\n",
    "- RB adverb very, silently,\n",
    "- RBR adverb, comparative better\n",
    "- RBS adverb, superlative best\n",
    "- RP particle give up\n",
    "- TO to go ‘to‘ the store.\n",
    "- UH interjection errrrrrrrm\n",
    "- VB verb, base form take\n",
    "- VBD verb, past tense took\n",
    "- VBG verb, gerund/present participle taking\n",
    "- VBN verb, past participle taken\n",
    "- VBP verb, sing. present, non-3d take\n",
    "- VBZ verb, 3rd person sing. present takes\n",
    "- WDT wh-determiner which\n",
    "- WP wh-pronoun who, what\n",
    "- WP possessive wh-pronoun whose\n",
    "- WRB wh-abverb where, when"
   ]
  },
  {
   "cell_type": "code",
   "execution_count": 1,
   "metadata": {},
   "outputs": [],
   "source": [
    "import nltk \n",
    "from nltk.corpus import stopwords \n",
    "from nltk.tokenize import word_tokenize, sent_tokenize \n",
    "stop_words = set(stopwords.words('english'))"
   ]
  },
  {
   "cell_type": "code",
   "execution_count": 2,
   "metadata": {},
   "outputs": [],
   "source": [
    "#Dummy text \n",
    "txt =  \"\"\"Sukanya, Rajib and Naba are my good friends.\n",
    "       Sukanya is getting married next year.\n",
    "       Marriage is a big step in one’s life.\n",
    "       It is both exciting and frightening.\n",
    "       But friendship is a sacred bond between people.\n",
    "       It is a special kind of love between us.\n",
    "       Many of you must have tried searching for a friend\n",
    "       but never found the right one.\n",
    "       \"\"\""
   ]
  },
  {
   "cell_type": "code",
   "execution_count": 3,
   "metadata": {},
   "outputs": [],
   "source": [
    "tokenized = sent_tokenize(txt)\n",
    "line = []\n",
    "for i in tokenized: \n",
    "      \n",
    "    # Word tokenizers is used to find the words  \n",
    "    # and punctuation in a string \n",
    "    wordsList = nltk.word_tokenize(i) \n",
    "  \n",
    "    # removing stop words from wordList \n",
    "    wordsList = [w for w in wordsList if not w in stop_words]  \n",
    "  \n",
    "    #  Using a Tagger. Which is part-of-speech  \n",
    "    # tagger or POS-tagger.  \n",
    "    tagged = nltk.pos_tag(wordsList) \n",
    "    #line by\n",
    "    line.append(tagged)"
   ]
  },
  {
   "cell_type": "code",
   "execution_count": 4,
   "metadata": {},
   "outputs": [
    {
     "data": {
      "text/plain": [
       "[[('Sukanya', 'NNP'),\n",
       "  (',', ','),\n",
       "  ('Rajib', 'NNP'),\n",
       "  ('Naba', 'NNP'),\n",
       "  ('good', 'JJ'),\n",
       "  ('friends', 'NNS'),\n",
       "  ('.', '.')],\n",
       " [('Sukanya', 'NNP'),\n",
       "  ('getting', 'VBG'),\n",
       "  ('married', 'VBN'),\n",
       "  ('next', 'JJ'),\n",
       "  ('year', 'NN'),\n",
       "  ('.', '.')],\n",
       " [('Marriage', 'NN'),\n",
       "  ('big', 'JJ'),\n",
       "  ('step', 'NN'),\n",
       "  ('one', 'CD'),\n",
       "  ('’', 'NNP'),\n",
       "  ('life', 'NN'),\n",
       "  ('.', '.')],\n",
       " [('It', 'PRP'), ('exciting', 'VBG'), ('frightening', 'VBG'), ('.', '.')],\n",
       " [('But', 'CC'),\n",
       "  ('friendship', 'NN'),\n",
       "  ('sacred', 'VBD'),\n",
       "  ('bond', 'NN'),\n",
       "  ('people', 'NNS'),\n",
       "  ('.', '.')],\n",
       " [('It', 'PRP'),\n",
       "  ('special', 'JJ'),\n",
       "  ('kind', 'NN'),\n",
       "  ('love', 'VB'),\n",
       "  ('us', 'PRP'),\n",
       "  ('.', '.')],\n",
       " [('Many', 'JJ'),\n",
       "  ('must', 'MD'),\n",
       "  ('tried', 'VB'),\n",
       "  ('searching', 'VBG'),\n",
       "  ('friend', 'NN'),\n",
       "  ('never', 'RB'),\n",
       "  ('found', 'VBD'),\n",
       "  ('right', 'JJ'),\n",
       "  ('one', 'CD'),\n",
       "  ('.', '.')]]"
      ]
     },
     "execution_count": 4,
     "metadata": {},
     "output_type": "execute_result"
    }
   ],
   "source": [
    "line"
   ]
  }
 ],
 "metadata": {
  "kernelspec": {
   "display_name": "Python 3",
   "language": "python",
   "name": "python3"
  },
  "language_info": {
   "codemirror_mode": {
    "name": "ipython",
    "version": 3
   },
   "file_extension": ".py",
   "mimetype": "text/x-python",
   "name": "python",
   "nbconvert_exporter": "python",
   "pygments_lexer": "ipython3",
   "version": "3.7.3"
  }
 },
 "nbformat": 4,
 "nbformat_minor": 2
}
